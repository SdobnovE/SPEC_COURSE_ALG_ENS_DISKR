{
 "cells": [
  {
   "cell_type": "code",
   "execution_count": 5,
   "metadata": {},
   "outputs": [],
   "source": [
    "tests = [\n",
    "    {\n",
    "        \"W\": 165,\n",
    "        \"weights\": [23, 31, 29, 44, 53, 38, 63, 85, 89, 82],\n",
    "        \"costs\": [92, 57, 49, 68, 60, 43, 67, 84, 87, 72],\n",
    "        \"ans\": [1, 1, 1, 1, 0, 1, 0, 0, 0, 0]\n",
    "    },\n",
    "    \n",
    "    {\n",
    "        \"W\": 26,\n",
    "        \"weights\": [12,7,11,8,9],\n",
    "        \"costs\": [24,13,23,15,16],\n",
    "        \"ans\": [0, 1, 1, 1, 0]\n",
    "    },\n",
    "    \n",
    "    {\n",
    "        \"W\": 190,\n",
    "        \"weights\": [56,59,80,64,75,17],\n",
    "        \"costs\": [50,50,64,46,50,5],\n",
    "        \"ans\": [1,1,0,0,1,0]\n",
    "    },\n",
    "    \n",
    "    {\n",
    "        \"W\": 50,\n",
    "        \"weights\": [31,10,20,19, 4, 3, 6],\n",
    "        \"costs\": [70,20,39,37,7,5,10],\n",
    "        \"ans\": [1,0,0,1,0,0,0]\n",
    "    },\n",
    "    \n",
    "    {\n",
    "        \"W\": 104,\n",
    "        \"weights\": [25, 35,45, 5,25, 3, 2, 2],\n",
    "        \"costs\": [350,400,450, 20, 70,  8,  5,  5],\n",
    "        \"ans\": [1,0,1,1,1,0,1,1]\n",
    "    },\n",
    "    \n",
    "    {\n",
    "        \"W\": 170,\n",
    "        \"weights\": [41, 50, 49,59,55,57,60],\n",
    "        \"costs\": [442,525,511,593,546,564,617],\n",
    "        \"ans\": [0,1,0,1,0,0,1]\n",
    "    },\n",
    "    \n",
    "    {\n",
    "        \"W\": 750,\n",
    "        \"weights\": [70,73,77,80,82,87,90,94,98,106,110,113,115,118,120],\n",
    "        \"costs\": [135,139,149,150,156,163,173,184,192,201,210,214,221,229,240],\n",
    "        \"ans\": [1,0,1,0,1,0,1,1,1,0,0,0,0,1,1]\n",
    "    },\n",
    "    \n",
    "    {\n",
    "        \"W\": 6404180,\n",
    "        \"weights\": [382745,799601,909247,729069,467902,44328,34610,698150,823460,903959,853665,551830,\n",
    "                    610856,670702,488960,951111,323046,446298,931161,31385,496951,264724,224916,169684],\n",
    "        \"costs\": [ 825594,1677009,1676628,1523970,943972,97426,69666,1296457,1679693,1902996,1844992,\n",
    "                  1049289,1252836,1319836,953277,2067538,675367,853655,1826027,65731,901489,577243,466257,369261],\n",
    "        \"ans\": [1,1,0,1,1,1,0,0,0,1,1,0,1,0,0,1,0,0,0,0,0,1,1,1]\n",
    "    },\n",
    "    \n",
    "]"
   ]
  },
  {
   "cell_type": "code",
   "execution_count": 9,
   "metadata": {},
   "outputs": [
    {
     "data": {
      "text/plain": [
       "8"
      ]
     },
     "execution_count": 9,
     "metadata": {},
     "output_type": "execute_result"
    }
   ],
   "source": [
    "len(tests)"
   ]
  },
  {
   "cell_type": "markdown",
   "metadata": {},
   "source": [
    "# ДИНАМИКА ПО СТОИМОСТИ"
   ]
  },
  {
   "cell_type": "code",
   "execution_count": 101,
   "metadata": {},
   "outputs": [],
   "source": [
    "\n",
    "def knapsack_dinamic_cost(N, M, weights, costs):\n",
    "    '''Динамика по ценности'''\n",
    "    \n",
    "    COST = sum(costs)\n",
    "    \n",
    "    y = [[0 for i in range(COST+1)] for j in range(N+1)]\n",
    "    for i in range(1, COST+1):\n",
    "        y[0][i] = M + 1\n",
    "\n",
    "\n",
    "    for i in range(1,N+1):\n",
    "        for V in range(COST+1):\n",
    "\n",
    "            if costs[i-1] > V:\n",
    "                y[i][V] = y[i-1][V]\n",
    "            else:\n",
    "                y[i][V] = min(y[i-1][V], y[i-1][V-costs[i-1]] + weights[i-1])\n",
    "        \n",
    "    #Построили матрицу y[i,V]\n",
    "    #где i -  используем до i-го предмета\n",
    "    #V - стоимость которуюю набирвем\n",
    "\n",
    "\n",
    "    IND = COST\n",
    "    while y[N][IND] == M+1:\n",
    "        IND-=1\n",
    "    #IND - максимальная цена, которую можно набрать используя все предметы\n",
    "\n",
    "\n",
    "    res = IND\n",
    "\n",
    "\n",
    "\n",
    "    lis =[0 for i in range(N)]\n",
    "    for i in range(N, -1,-1):\n",
    "        if y[i-1][IND] != y[i][IND]:\n",
    "            lis[i-1]=1\n",
    "            IND-=costs[i-1]\n",
    "\n",
    "\n",
    "\n",
    "    return res, lis"
   ]
  },
  {
   "cell_type": "code",
   "execution_count": 102,
   "metadata": {},
   "outputs": [],
   "source": []
  },
  {
   "cell_type": "code",
   "execution_count": 103,
   "metadata": {},
   "outputs": [],
   "source": [
    "def check_correctness(func, test):\n",
    "    cost, res = func(len(test[\"weights\"]), test[\"W\"],\n",
    "                      test[\"weights\"], test[\"costs\"])\n",
    "    \n",
    "    real_cost = 0\n",
    "    \n",
    "    for i in range(len(test[\"weights\"])):\n",
    "        if test[\"ans\"][i] == 1:\n",
    "            real_cost += test[\"costs\"][i]\n",
    "            \n",
    "    if real_cost == cost and res == test[\"ans\"]:\n",
    "        return \"EXACT\"\n",
    "    if real_cost == cost:\n",
    "        return \"CORRECT\", res, test[\"ans\"]\n",
    "    return \"FALSE\", res, test[\"ans\"]"
   ]
  },
  {
   "cell_type": "code",
   "execution_count": 73,
   "metadata": {},
   "outputs": [
    {
     "name": "stdout",
     "output_type": "stream",
     "text": [
      "CPU times: user 2.28 ms, sys: 28 µs, total: 2.31 ms\n",
      "Wall time: 2.3 ms\n"
     ]
    },
    {
     "data": {
      "text/plain": [
       "'EXACT'"
      ]
     },
     "execution_count": 73,
     "metadata": {},
     "output_type": "execute_result"
    }
   ],
   "source": [
    "%%time\n",
    "check_correctness(knapsack_dinamic_cost, tests[0])"
   ]
  },
  {
   "cell_type": "code",
   "execution_count": 74,
   "metadata": {},
   "outputs": [
    {
     "name": "stdout",
     "output_type": "stream",
     "text": [
      "CPU times: user 682 µs, sys: 9 µs, total: 691 µs\n",
      "Wall time: 696 µs\n"
     ]
    },
    {
     "data": {
      "text/plain": [
       "'EXACT'"
      ]
     },
     "execution_count": 74,
     "metadata": {},
     "output_type": "execute_result"
    }
   ],
   "source": [
    "%%time\n",
    "check_correctness(knapsack_dinamic_cost, tests[1])"
   ]
  },
  {
   "cell_type": "code",
   "execution_count": 75,
   "metadata": {},
   "outputs": [
    {
     "name": "stdout",
     "output_type": "stream",
     "text": [
      "CPU times: user 4.01 ms, sys: 0 ns, total: 4.01 ms\n",
      "Wall time: 3.56 ms\n"
     ]
    },
    {
     "data": {
      "text/plain": [
       "'EXACT'"
      ]
     },
     "execution_count": 75,
     "metadata": {},
     "output_type": "execute_result"
    }
   ],
   "source": [
    "%%time\n",
    "check_correctness(knapsack_dinamic_cost, tests[2])"
   ]
  },
  {
   "cell_type": "code",
   "execution_count": 76,
   "metadata": {},
   "outputs": [
    {
     "name": "stdout",
     "output_type": "stream",
     "text": [
      "CPU times: user 2.23 ms, sys: 0 ns, total: 2.23 ms\n",
      "Wall time: 2.12 ms\n"
     ]
    },
    {
     "data": {
      "text/plain": [
       "'EXACT'"
      ]
     },
     "execution_count": 76,
     "metadata": {},
     "output_type": "execute_result"
    }
   ],
   "source": [
    "%%time\n",
    "check_correctness(knapsack_dinamic_cost, tests[3])"
   ]
  },
  {
   "cell_type": "code",
   "execution_count": 77,
   "metadata": {},
   "outputs": [
    {
     "name": "stdout",
     "output_type": "stream",
     "text": [
      "CPU times: user 15.8 ms, sys: 0 ns, total: 15.8 ms\n",
      "Wall time: 15.4 ms\n"
     ]
    },
    {
     "data": {
      "text/plain": [
       "'EXACT'"
      ]
     },
     "execution_count": 77,
     "metadata": {},
     "output_type": "execute_result"
    }
   ],
   "source": [
    "%%time\n",
    "check_correctness(knapsack_dinamic_cost, tests[4])"
   ]
  },
  {
   "cell_type": "code",
   "execution_count": 78,
   "metadata": {},
   "outputs": [
    {
     "name": "stdout",
     "output_type": "stream",
     "text": [
      "CPU times: user 23.8 ms, sys: 0 ns, total: 23.8 ms\n",
      "Wall time: 23 ms\n"
     ]
    },
    {
     "data": {
      "text/plain": [
       "'EXACT'"
      ]
     },
     "execution_count": 78,
     "metadata": {},
     "output_type": "execute_result"
    }
   ],
   "source": [
    "%%time\n",
    "check_correctness(knapsack_dinamic_cost, tests[5])"
   ]
  },
  {
   "cell_type": "code",
   "execution_count": 79,
   "metadata": {},
   "outputs": [
    {
     "name": "stdout",
     "output_type": "stream",
     "text": [
      "CPU times: user 41.2 ms, sys: 14 µs, total: 41.2 ms\n",
      "Wall time: 39.5 ms\n"
     ]
    },
    {
     "data": {
      "text/plain": [
       "'EXACT'"
      ]
     },
     "execution_count": 79,
     "metadata": {},
     "output_type": "execute_result"
    }
   ],
   "source": [
    "%%time\n",
    "check_correctness(knapsack_dinamic_cost, tests[6])"
   ]
  },
  {
   "cell_type": "code",
   "execution_count": 80,
   "metadata": {},
   "outputs": [
    {
     "name": "stdout",
     "output_type": "stream",
     "text": [
      "CPU times: user 4min 18s, sys: 2.02 s, total: 4min 20s\n",
      "Wall time: 4min 20s\n"
     ]
    },
    {
     "data": {
      "text/plain": [
       "'EXACT'"
      ]
     },
     "execution_count": 80,
     "metadata": {},
     "output_type": "execute_result"
    }
   ],
   "source": [
    "%%time\n",
    "check_correctness(knapsack_dinamic_cost, tests[7])"
   ]
  },
  {
   "cell_type": "code",
   "execution_count": null,
   "metadata": {},
   "outputs": [],
   "source": [
    "[\"2.3 ms\", \"696 µs\", \"3.56 ms\", \"2.12 ms\", \"15.4 ms\", \"23 ms\", \"39.5 ms\", \"4min 20s\"]"
   ]
  },
  {
   "cell_type": "code",
   "execution_count": null,
   "metadata": {},
   "outputs": [],
   "source": []
  },
  {
   "cell_type": "markdown",
   "metadata": {},
   "source": [
    "# ДИНАМИКА ПО ВЕСАМ"
   ]
  },
  {
   "cell_type": "code",
   "execution_count": 455,
   "metadata": {},
   "outputs": [],
   "source": [
    "\n",
    "def knapsack_dinamic_weight(N, M, weights, costs):\n",
    "    '''Динамика по весам'''\n",
    "\n",
    "\n",
    "    c = [0 for i in range(M+1)]\n",
    "    lists = [[] for i in range(M+1)] \n",
    "    c[0] = 0\n",
    "\n",
    "    for W in range(1, M+1):\n",
    "        c[W] = c[W-1]\n",
    "        lists[W] = lists[W-1]\n",
    "\n",
    "        for i in range(N):\n",
    "            w = weights[i]\n",
    "            if W - w >= 0 and  i not in lists[W-w]:\n",
    "                    if c[W] < costs[i] + c[W-w]:\n",
    "                        lists[W] = lists[W-w] + [i]\n",
    "                        c[W] = costs[i] + c[W-w]\n",
    "    res = [0 for i in range(N)]\n",
    "    for i in lists[M]:\n",
    "        res[i] = 1\n",
    "        \n",
    "    return c[M], res"
   ]
  },
  {
   "cell_type": "code",
   "execution_count": 92,
   "metadata": {},
   "outputs": [
    {
     "name": "stdout",
     "output_type": "stream",
     "text": [
      "CPU times: user 274 µs, sys: 3 µs, total: 277 µs\n",
      "Wall time: 279 µs\n"
     ]
    },
    {
     "data": {
      "text/plain": [
       "'EXACT'"
      ]
     },
     "execution_count": 92,
     "metadata": {},
     "output_type": "execute_result"
    }
   ],
   "source": [
    "%%time\n",
    "check_correctness(knapsack_dinamic_weight, tests[0])"
   ]
  },
  {
   "cell_type": "code",
   "execution_count": 93,
   "metadata": {},
   "outputs": [
    {
     "name": "stdout",
     "output_type": "stream",
     "text": [
      "CPU times: user 167 µs, sys: 0 ns, total: 167 µs\n",
      "Wall time: 176 µs\n"
     ]
    },
    {
     "data": {
      "text/plain": [
       "'EXACT'"
      ]
     },
     "execution_count": 93,
     "metadata": {},
     "output_type": "execute_result"
    }
   ],
   "source": [
    "%%time\n",
    "check_correctness(knapsack_dinamic_weight, tests[1])"
   ]
  },
  {
   "cell_type": "code",
   "execution_count": 94,
   "metadata": {},
   "outputs": [
    {
     "name": "stdout",
     "output_type": "stream",
     "text": [
      "CPU times: user 0 ns, sys: 931 µs, total: 931 µs\n",
      "Wall time: 940 µs\n"
     ]
    },
    {
     "data": {
      "text/plain": [
       "'EXACT'"
      ]
     },
     "execution_count": 94,
     "metadata": {},
     "output_type": "execute_result"
    }
   ],
   "source": [
    "%%time\n",
    "check_correctness(knapsack_dinamic_weight, tests[2])"
   ]
  },
  {
   "cell_type": "code",
   "execution_count": 95,
   "metadata": {},
   "outputs": [
    {
     "name": "stdout",
     "output_type": "stream",
     "text": [
      "CPU times: user 84 µs, sys: 1e+03 ns, total: 85 µs\n",
      "Wall time: 86.8 µs\n"
     ]
    },
    {
     "data": {
      "text/plain": [
       "'EXACT'"
      ]
     },
     "execution_count": 95,
     "metadata": {},
     "output_type": "execute_result"
    }
   ],
   "source": [
    "%%time\n",
    "check_correctness(knapsack_dinamic_weight, tests[3])"
   ]
  },
  {
   "cell_type": "code",
   "execution_count": 96,
   "metadata": {},
   "outputs": [
    {
     "name": "stdout",
     "output_type": "stream",
     "text": [
      "CPU times: user 190 µs, sys: 2 µs, total: 192 µs\n",
      "Wall time: 195 µs\n"
     ]
    },
    {
     "data": {
      "text/plain": [
       "'EXACT'"
      ]
     },
     "execution_count": 96,
     "metadata": {},
     "output_type": "execute_result"
    }
   ],
   "source": [
    "%%time\n",
    "check_correctness(knapsack_dinamic_weight, tests[4])"
   ]
  },
  {
   "cell_type": "code",
   "execution_count": 97,
   "metadata": {},
   "outputs": [
    {
     "name": "stdout",
     "output_type": "stream",
     "text": [
      "CPU times: user 240 µs, sys: 2 µs, total: 242 µs\n",
      "Wall time: 245 µs\n"
     ]
    },
    {
     "data": {
      "text/plain": [
       "'EXACT'"
      ]
     },
     "execution_count": 97,
     "metadata": {},
     "output_type": "execute_result"
    }
   ],
   "source": [
    "%%time\n",
    "check_correctness(knapsack_dinamic_weight, tests[5])"
   ]
  },
  {
   "cell_type": "code",
   "execution_count": 98,
   "metadata": {},
   "outputs": [
    {
     "name": "stdout",
     "output_type": "stream",
     "text": [
      "CPU times: user 2.53 ms, sys: 28 µs, total: 2.56 ms\n",
      "Wall time: 2.56 ms\n"
     ]
    },
    {
     "data": {
      "text/plain": [
       "'EXACT'"
      ]
     },
     "execution_count": 98,
     "metadata": {},
     "output_type": "execute_result"
    }
   ],
   "source": [
    "%%time\n",
    "check_correctness(knapsack_dinamic_weight, tests[6])"
   ]
  },
  {
   "cell_type": "code",
   "execution_count": 99,
   "metadata": {},
   "outputs": [
    {
     "name": "stdout",
     "output_type": "stream",
     "text": [
      "CPU times: user 40.1 s, sys: 172 ms, total: 40.3 s\n",
      "Wall time: 40.2 s\n"
     ]
    },
    {
     "data": {
      "text/plain": [
       "'EXACT'"
      ]
     },
     "execution_count": 99,
     "metadata": {},
     "output_type": "execute_result"
    }
   ],
   "source": [
    "%%time\n",
    "check_correctness(knapsack_dinamic_weight, tests[7])"
   ]
  },
  {
   "cell_type": "code",
   "execution_count": null,
   "metadata": {},
   "outputs": [],
   "source": [
    "[\"279 µs\", \"176 µs\", \"940 µs\", \"86.8 µs\", \"195 µs\", \"245 µs\", \"2.56 ms\", \"40.2 s\"]"
   ]
  },
  {
   "cell_type": "markdown",
   "metadata": {},
   "source": [
    "# ГЕНЕТИЧЕСКИЙ АЛГОРИТМ"
   ]
  },
  {
   "cell_type": "code",
   "execution_count": 311,
   "metadata": {},
   "outputs": [],
   "source": [
    "import random as rnd\n",
    "import numpy as np\n",
    "rnd.seed(42)\n",
    "\n",
    "class Knapsack_DNA():\n",
    "    def __init__(self, P=10_000, epoch=30, prob_mutation=0.005, num_best=1000):\n",
    "        \n",
    "        if num_best > P:\n",
    "            raise ValueError(\"num_best > P\")\n",
    "            \n",
    "        self.P = P\n",
    "        self.epoch = epoch\n",
    "        self.prob_mutation = prob_mutation\n",
    "        self.num_best = num_best\n",
    "        \n",
    "    \n",
    "    \n",
    "    def __mutate(self, DNA):\n",
    "        for i in range(len(DNA)):\n",
    "            if rnd.random() < self.prob_mutation:\n",
    "                DNA[i] ^= 1\n",
    "        return DNA\n",
    "    \n",
    "    \n",
    "    \n",
    "    def __crossover(self, DNA1, DNA2):\n",
    "        child_DNA = DNA1[:]\n",
    "        child_DNA[::2] = DNA1[::2]\n",
    "        child_DNA[1::2] = DNA2[1::2]\n",
    "        return DNA1\n",
    "    \n",
    "    \n",
    "    \n",
    "    def __loss_func(self, DNA):\n",
    "        \n",
    "        mask = np.where(DNA==1)\n",
    "        weight = self.weights[mask].sum()\n",
    "        \n",
    "        cost = -1\n",
    "        if weight <= self.Weight:\n",
    "            cost = self.costs[mask].sum()\n",
    "        \n",
    "        return cost\n",
    "    \n",
    "    \n",
    "    def __begin_epoch(self):\n",
    "        errors = np.array(list(map(lambda x: self.__loss_func(x), self.Population)))\n",
    "        indexes_of_bests = np.argpartition(-errors, self.num_best)\n",
    "        Best = self.Population[indexes_of_bests[:self.num_best],:]\n",
    "        \n",
    "        \n",
    "        self.Population[:self.num_best,:] = Best[:,:]\n",
    "        \n",
    "        for i in range(self.num_best,\n",
    "                       self.Population.shape[0]):\n",
    "            \n",
    "            fir = rnd.randint(0, self.num_best-1)\n",
    "            sec = rnd.randint(0, self.num_best-1)\n",
    "            self.Population[i] = self.__crossover(Best[fir,:], Best[sec,:])\n",
    "            self.__mutate(self.Population[i])\n",
    " \n",
    "            \n",
    "        \n",
    "        \n",
    "    \n",
    "    \n",
    "    def fit(self, test):\n",
    "        self.N = len(test[\"weights\"])\n",
    "        self.Weight = test[\"W\"]\n",
    "        self.weights = np.array(test[\"weights\"])\n",
    "        self.costs = np.array(test[\"costs\"])\n",
    "        self.ans = np.array(test[\"ans\"])\n",
    "        \n",
    "        self.Population = np.array([[rnd.randint(0,1) for i in range(self.N)] for j in range(self.P)])\n",
    "        for i in range(self.epoch):\n",
    "            self.__begin_epoch()\n",
    "            errors = np.array(list(map(lambda x: self.__loss_func(x), self.Population)))\n",
    "#             print(errors.max())\n",
    "            \n",
    "    def predict(self):\n",
    "        errors = np.array(list(map(lambda x: self.__loss_func(x), self.Population)))\n",
    "        pos = errors.argmax()\n",
    "        \n",
    "        return self.__loss_func(self.Population[pos,:]), self.Population[pos,:]\n",
    "    \n",
    "    def score(self):\n",
    "        cost, res = self.predict()\n",
    "        \n",
    "    \n",
    "        real_cost = self.costs[np.where(self.ans == 1)].sum()\n",
    "        \n",
    "        if real_cost == cost and (res == self.ans).all():\n",
    "            return \"EXACT\"\n",
    "        if real_cost == cost:\n",
    "            return \"CORRECT\", res, self.ans\n",
    "        print(\"Truth = \" + str(real_cost))\n",
    "        print(\"Obtain = \" + str(cost))\n",
    "        print(\"Difference = \" + str(real_cost - cost))\n",
    "        return \"FALSE\"\n",
    "        \n",
    "    "
   ]
  },
  {
   "cell_type": "code",
   "execution_count": 312,
   "metadata": {},
   "outputs": [],
   "source": [
    "mdl = Knapsack_DNA() "
   ]
  },
  {
   "cell_type": "code",
   "execution_count": 313,
   "metadata": {},
   "outputs": [
    {
     "name": "stdout",
     "output_type": "stream",
     "text": [
      "CPU times: user 6.06 s, sys: 11.9 ms, total: 6.07 s\n",
      "Wall time: 6.06 s\n"
     ]
    },
    {
     "data": {
      "text/plain": [
       "'EXACT'"
      ]
     },
     "execution_count": 313,
     "metadata": {},
     "output_type": "execute_result"
    }
   ],
   "source": [
    "%%time\n",
    "mdl.fit(tests[0])\n",
    "mdl.score()"
   ]
  },
  {
   "cell_type": "code",
   "execution_count": 314,
   "metadata": {},
   "outputs": [
    {
     "name": "stdout",
     "output_type": "stream",
     "text": [
      "CPU times: user 5.71 s, sys: 3.89 ms, total: 5.72 s\n",
      "Wall time: 5.75 s\n"
     ]
    },
    {
     "data": {
      "text/plain": [
       "'EXACT'"
      ]
     },
     "execution_count": 314,
     "metadata": {},
     "output_type": "execute_result"
    }
   ],
   "source": [
    "%%time\n",
    "mdl.fit(tests[1])\n",
    "mdl.score()"
   ]
  },
  {
   "cell_type": "code",
   "execution_count": 315,
   "metadata": {},
   "outputs": [
    {
     "name": "stdout",
     "output_type": "stream",
     "text": [
      "CPU times: user 5.8 s, sys: 7.93 ms, total: 5.81 s\n",
      "Wall time: 5.84 s\n"
     ]
    },
    {
     "data": {
      "text/plain": [
       "'EXACT'"
      ]
     },
     "execution_count": 315,
     "metadata": {},
     "output_type": "execute_result"
    }
   ],
   "source": [
    "%%time\n",
    "mdl.fit(tests[2])\n",
    "mdl.score()"
   ]
  },
  {
   "cell_type": "code",
   "execution_count": 316,
   "metadata": {},
   "outputs": [
    {
     "name": "stdout",
     "output_type": "stream",
     "text": [
      "CPU times: user 6.04 s, sys: 0 ns, total: 6.04 s\n",
      "Wall time: 6.03 s\n"
     ]
    },
    {
     "data": {
      "text/plain": [
       "'EXACT'"
      ]
     },
     "execution_count": 316,
     "metadata": {},
     "output_type": "execute_result"
    }
   ],
   "source": [
    "%%time\n",
    "mdl.fit(tests[3])\n",
    "mdl.score()"
   ]
  },
  {
   "cell_type": "code",
   "execution_count": 317,
   "metadata": {},
   "outputs": [
    {
     "name": "stdout",
     "output_type": "stream",
     "text": [
      "CPU times: user 6.09 s, sys: 3.83 ms, total: 6.09 s\n",
      "Wall time: 6.09 s\n"
     ]
    },
    {
     "data": {
      "text/plain": [
       "'EXACT'"
      ]
     },
     "execution_count": 317,
     "metadata": {},
     "output_type": "execute_result"
    }
   ],
   "source": [
    "%%time\n",
    "mdl.fit(tests[4])\n",
    "mdl.score()"
   ]
  },
  {
   "cell_type": "code",
   "execution_count": 318,
   "metadata": {},
   "outputs": [
    {
     "name": "stdout",
     "output_type": "stream",
     "text": [
      "CPU times: user 5.97 s, sys: 0 ns, total: 5.97 s\n",
      "Wall time: 5.96 s\n"
     ]
    },
    {
     "data": {
      "text/plain": [
       "'EXACT'"
      ]
     },
     "execution_count": 318,
     "metadata": {},
     "output_type": "execute_result"
    }
   ],
   "source": [
    "%%time\n",
    "mdl.fit(tests[5])\n",
    "mdl.score()"
   ]
  },
  {
   "cell_type": "code",
   "execution_count": 319,
   "metadata": {},
   "outputs": [
    {
     "name": "stdout",
     "output_type": "stream",
     "text": [
      "Truth = 1458\n",
      "Obtain = 1456\n",
      "Difference = 2\n",
      "CPU times: user 6.14 s, sys: 16.1 ms, total: 6.16 s\n",
      "Wall time: 6.17 s\n"
     ]
    },
    {
     "data": {
      "text/plain": [
       "'FALSE'"
      ]
     },
     "execution_count": 319,
     "metadata": {},
     "output_type": "execute_result"
    }
   ],
   "source": [
    "%%time\n",
    "mdl.fit(tests[6])\n",
    "mdl.score()"
   ]
  },
  {
   "cell_type": "code",
   "execution_count": 320,
   "metadata": {},
   "outputs": [
    {
     "name": "stdout",
     "output_type": "stream",
     "text": [
      "CPU times: user 6.6 s, sys: 3.89 ms, total: 6.6 s\n",
      "Wall time: 6.59 s\n"
     ]
    },
    {
     "data": {
      "text/plain": [
       "'EXACT'"
      ]
     },
     "execution_count": 320,
     "metadata": {},
     "output_type": "execute_result"
    }
   ],
   "source": [
    "%%time\n",
    "mdl.fit(tests[7])\n",
    "mdl.score()"
   ]
  },
  {
   "cell_type": "code",
   "execution_count": null,
   "metadata": {},
   "outputs": [],
   "source": [
    "[\"6.06 s\", \"5.75 s\", \"5.84 s\", \"6.03 s\", \"6.09 s\", \"5.96 s\", \"6.17 s\", \"6.59 s\"]"
   ]
  },
  {
   "cell_type": "markdown",
   "metadata": {},
   "source": [
    "# ЛИНЕЙНОЕ ПРОГРАММИРОВАНИЕ"
   ]
  },
  {
   "cell_type": "markdown",
   "metadata": {},
   "source": [
    "$x_i \\le 1$\n",
    "\n",
    "$x_i \\ge 0 \\Leftrightarrow  -x_i \\le 0 $\n",
    "\n",
    "$\\sum_{i=0}^{N}$ weights$_i \\cdot x_i \\le W$\n",
    "\n",
    "$\\sum_{i=0}^{N}$ costst$_i \\cdot x_i \\rightarrow max$"
   ]
  },
  {
   "cell_type": "code",
   "execution_count": 235,
   "metadata": {
    "scrolled": true
   },
   "outputs": [],
   "source": [
    "import cvxopt\n",
    "import numpy as np"
   ]
  },
  {
   "cell_type": "code",
   "execution_count": null,
   "metadata": {},
   "outputs": [],
   "source": []
  },
  {
   "cell_type": "code",
   "execution_count": 216,
   "metadata": {},
   "outputs": [],
   "source": [
    "def linear_programming(N, W, weights, costs):\n",
    "    b = []\n",
    "    A = []\n",
    "    \n",
    "    c = [-i for i in costs]\n",
    "    for i in range(N):\n",
    "        b.append(1)\n",
    "        \n",
    "    for i in range(N):\n",
    "        b.append(0)\n",
    "        \n",
    "    b.append(W)\n",
    "    \n",
    "    for i in range(N):\n",
    "        string = [0 for i in range(N)]\n",
    "        string[i] = 1\n",
    "        A.append(string)\n",
    "        \n",
    "    for i in range(N):\n",
    "        string = [0 for i in range(N)]\n",
    "        string[i] = -1\n",
    "        A.append(string)\n",
    "        \n",
    "    string = [i for i in weights]\n",
    "    A.append(string)\n",
    "    \n",
    "    \n",
    "    \n",
    "    A = cvxopt.matrix(np.array(A).astype(np.float))\n",
    "    b = cvxopt.matrix(np.array(b).astype(np.float))\n",
    "    c = cvxopt.matrix(np.array(c).astype(np.float))\n",
    "    \n",
    "    \n",
    "    sol = cvxopt.glpk.ilp(c, A, b, I={i for i in range(N)})\n",
    "    sol = list(sol[1])\n",
    "\n",
    "    return np.array(sol)\n",
    "    "
   ]
  },
  {
   "cell_type": "code",
   "execution_count": 217,
   "metadata": {},
   "outputs": [],
   "source": [
    "def check_correctness_lp(test):\n",
    "    res = linear_programming(len(test[\"weights\"]), test[\"W\"],\n",
    "                  test[\"weights\"], test[\"costs\"])\n",
    "    cost = np.dot(res.reshape(-1),np.array(test[\"costs\"]))\n",
    "    real_cost = np.dot(np.array(test[\"ans\"]),np.array(test[\"costs\"]))\n",
    "    if cost == real_cost and (res.astype(np.int) == np.array(test[\"ans\"])).all():\n",
    "        return \"EXACT\"\n",
    "        \n",
    "    if cost == real_cost:\n",
    "        return \"CORRECT\", res, test[\"ans\"]\n",
    "        \n",
    "    \n",
    "    return \"FALSE\", res, test[\"ans\"]\n",
    "    \n",
    "    "
   ]
  },
  {
   "cell_type": "code",
   "execution_count": 219,
   "metadata": {},
   "outputs": [
    {
     "name": "stdout",
     "output_type": "stream",
     "text": [
      "CPU times: user 577 µs, sys: 179 µs, total: 756 µs\n",
      "Wall time: 683 µs\n"
     ]
    },
    {
     "data": {
      "text/plain": [
       "'EXACT'"
      ]
     },
     "execution_count": 219,
     "metadata": {},
     "output_type": "execute_result"
    }
   ],
   "source": [
    "%%time\n",
    "check_correctness_lp(tests[0])"
   ]
  },
  {
   "cell_type": "code",
   "execution_count": 220,
   "metadata": {
    "scrolled": true
   },
   "outputs": [
    {
     "name": "stdout",
     "output_type": "stream",
     "text": [
      "CPU times: user 2.12 ms, sys: 0 ns, total: 2.12 ms\n",
      "Wall time: 2.76 ms\n"
     ]
    },
    {
     "data": {
      "text/plain": [
       "'EXACT'"
      ]
     },
     "execution_count": 220,
     "metadata": {},
     "output_type": "execute_result"
    }
   ],
   "source": [
    "%%time\n",
    "check_correctness_lp(tests[1])"
   ]
  },
  {
   "cell_type": "code",
   "execution_count": 221,
   "metadata": {},
   "outputs": [
    {
     "name": "stdout",
     "output_type": "stream",
     "text": [
      "CPU times: user 1.32 ms, sys: 410 µs, total: 1.73 ms\n",
      "Wall time: 3.78 ms\n"
     ]
    },
    {
     "data": {
      "text/plain": [
       "'EXACT'"
      ]
     },
     "execution_count": 221,
     "metadata": {},
     "output_type": "execute_result"
    }
   ],
   "source": [
    "%%time\n",
    "check_correctness_lp(tests[2])"
   ]
  },
  {
   "cell_type": "code",
   "execution_count": 222,
   "metadata": {},
   "outputs": [
    {
     "name": "stdout",
     "output_type": "stream",
     "text": [
      "CPU times: user 2.1 ms, sys: 649 µs, total: 2.75 ms\n",
      "Wall time: 5.48 ms\n"
     ]
    },
    {
     "data": {
      "text/plain": [
       "'EXACT'"
      ]
     },
     "execution_count": 222,
     "metadata": {},
     "output_type": "execute_result"
    }
   ],
   "source": [
    "%%time\n",
    "check_correctness_lp(tests[3])"
   ]
  },
  {
   "cell_type": "code",
   "execution_count": 223,
   "metadata": {},
   "outputs": [
    {
     "name": "stdout",
     "output_type": "stream",
     "text": [
      "CPU times: user 1.98 ms, sys: 0 ns, total: 1.98 ms\n",
      "Wall time: 1.83 ms\n"
     ]
    },
    {
     "data": {
      "text/plain": [
       "'EXACT'"
      ]
     },
     "execution_count": 223,
     "metadata": {},
     "output_type": "execute_result"
    }
   ],
   "source": [
    "%%time\n",
    "check_correctness_lp(tests[4])"
   ]
  },
  {
   "cell_type": "code",
   "execution_count": 224,
   "metadata": {},
   "outputs": [
    {
     "name": "stdout",
     "output_type": "stream",
     "text": [
      "CPU times: user 0 ns, sys: 967 µs, total: 967 µs\n",
      "Wall time: 971 µs\n"
     ]
    },
    {
     "data": {
      "text/plain": [
       "'EXACT'"
      ]
     },
     "execution_count": 224,
     "metadata": {},
     "output_type": "execute_result"
    }
   ],
   "source": [
    "%%time\n",
    "check_correctness_lp(tests[5])"
   ]
  },
  {
   "cell_type": "code",
   "execution_count": 225,
   "metadata": {},
   "outputs": [
    {
     "name": "stdout",
     "output_type": "stream",
     "text": [
      "CPU times: user 2.55 ms, sys: 0 ns, total: 2.55 ms\n",
      "Wall time: 2.47 ms\n"
     ]
    },
    {
     "data": {
      "text/plain": [
       "'EXACT'"
      ]
     },
     "execution_count": 225,
     "metadata": {},
     "output_type": "execute_result"
    }
   ],
   "source": [
    "%%time\n",
    "check_correctness_lp(tests[6])"
   ]
  },
  {
   "cell_type": "code",
   "execution_count": 226,
   "metadata": {},
   "outputs": [
    {
     "name": "stdout",
     "output_type": "stream",
     "text": [
      "CPU times: user 2.91 ms, sys: 899 µs, total: 3.81 ms\n",
      "Wall time: 5.12 ms\n"
     ]
    },
    {
     "data": {
      "text/plain": [
       "'EXACT'"
      ]
     },
     "execution_count": 226,
     "metadata": {},
     "output_type": "execute_result"
    }
   ],
   "source": [
    "%%time\n",
    "check_correctness_lp(tests[7])"
   ]
  },
  {
   "cell_type": "code",
   "execution_count": null,
   "metadata": {},
   "outputs": [],
   "source": [
    "[\"683 µs\", \"2.76 ms\", \"3.78 ms\", \"5.48 ms\", \"1.83 ms\",\"971 µs\", \"2.47 ms\", \"5.12 ms\"]"
   ]
  },
  {
   "cell_type": "code",
   "execution_count": null,
   "metadata": {},
   "outputs": [],
   "source": []
  },
  {
   "cell_type": "code",
   "execution_count": null,
   "metadata": {},
   "outputs": [],
   "source": []
  },
  {
   "cell_type": "markdown",
   "metadata": {},
   "source": [
    "# СРАВНЕНИЕ РЕЗУЛЬТАТОВ"
   ]
  },
  {
   "cell_type": "code",
   "execution_count": 229,
   "metadata": {},
   "outputs": [],
   "source": [
    "import pandas as pd"
   ]
  },
  {
   "cell_type": "code",
   "execution_count": 321,
   "metadata": {},
   "outputs": [],
   "source": [
    "tab = pd.DataFrame([[\"2.3 ms\", \"696 µs\", \"3.56 ms\", \"2.12 ms\", \"15.4 ms\", \"23 ms\", \"39.5 ms\", \"4min 20s\"],\n",
    "                    [\"279 µs\", \"176 µs\", \"940 µs\", \"86.8 µs\", \"195 µs\", \"245 µs\", \"2.56 ms\", \"40.2 s\"],\n",
    "                    [\"6.06 s\", \"5.75 s\", \"5.84 s\", \"6.03 s\", \"6.09 s\", \"5.96 s\", \"6.17 s\", \"6.59 s\"],\n",
    "                    [\"683 µs\", \"2.76 ms\", \"3.78 ms\", \"5.48 ms\", \"1.83 ms\",\"971 µs\", \"2.47 ms\", \"5.12 ms\"]\n",
    "                   ],\n",
    "                   columns=[\"test1\",\"test2\",\"test3\",\"test4\",\"test5\",\"test6\",\"test7\",\"test8\"]\n",
    "                   , index=[\"Дин. Стоимость\", \"Дин. Вес\", \"Генетический\", \"Цел.Лин.Прог\"])"
   ]
  },
  {
   "cell_type": "code",
   "execution_count": 322,
   "metadata": {},
   "outputs": [
    {
     "data": {
      "text/html": [
       "<div>\n",
       "<style scoped>\n",
       "    .dataframe tbody tr th:only-of-type {\n",
       "        vertical-align: middle;\n",
       "    }\n",
       "\n",
       "    .dataframe tbody tr th {\n",
       "        vertical-align: top;\n",
       "    }\n",
       "\n",
       "    .dataframe thead th {\n",
       "        text-align: right;\n",
       "    }\n",
       "</style>\n",
       "<table border=\"1\" class=\"dataframe\">\n",
       "  <thead>\n",
       "    <tr style=\"text-align: right;\">\n",
       "      <th></th>\n",
       "      <th>test1</th>\n",
       "      <th>test2</th>\n",
       "      <th>test3</th>\n",
       "      <th>test4</th>\n",
       "      <th>test5</th>\n",
       "      <th>test6</th>\n",
       "      <th>test7</th>\n",
       "      <th>test8</th>\n",
       "    </tr>\n",
       "  </thead>\n",
       "  <tbody>\n",
       "    <tr>\n",
       "      <th>Дин. Стоимость</th>\n",
       "      <td>2.3 ms</td>\n",
       "      <td>696 µs</td>\n",
       "      <td>3.56 ms</td>\n",
       "      <td>2.12 ms</td>\n",
       "      <td>15.4 ms</td>\n",
       "      <td>23 ms</td>\n",
       "      <td>39.5 ms</td>\n",
       "      <td>4min 20s</td>\n",
       "    </tr>\n",
       "    <tr>\n",
       "      <th>Дин. Вес</th>\n",
       "      <td>279 µs</td>\n",
       "      <td>176 µs</td>\n",
       "      <td>940 µs</td>\n",
       "      <td>86.8 µs</td>\n",
       "      <td>195 µs</td>\n",
       "      <td>245 µs</td>\n",
       "      <td>2.56 ms</td>\n",
       "      <td>40.2 s</td>\n",
       "    </tr>\n",
       "    <tr>\n",
       "      <th>Генетический</th>\n",
       "      <td>6.06 s</td>\n",
       "      <td>5.75 s</td>\n",
       "      <td>5.84 s</td>\n",
       "      <td>6.03 s</td>\n",
       "      <td>6.09 s</td>\n",
       "      <td>5.96 s</td>\n",
       "      <td>6.17 s</td>\n",
       "      <td>6.59 s</td>\n",
       "    </tr>\n",
       "    <tr>\n",
       "      <th>Цел.Лин.Прог</th>\n",
       "      <td>683 µs</td>\n",
       "      <td>2.76 ms</td>\n",
       "      <td>3.78 ms</td>\n",
       "      <td>5.48 ms</td>\n",
       "      <td>1.83 ms</td>\n",
       "      <td>971 µs</td>\n",
       "      <td>2.47 ms</td>\n",
       "      <td>5.12 ms</td>\n",
       "    </tr>\n",
       "  </tbody>\n",
       "</table>\n",
       "</div>"
      ],
      "text/plain": [
       "                 test1    test2    test3    test4    test5   test6    test7  \\\n",
       "Дин. Стоимость  2.3 ms   696 µs  3.56 ms  2.12 ms  15.4 ms   23 ms  39.5 ms   \n",
       "Дин. Вес        279 µs   176 µs   940 µs  86.8 µs   195 µs  245 µs  2.56 ms   \n",
       "Генетический    6.06 s   5.75 s   5.84 s   6.03 s   6.09 s  5.96 s   6.17 s   \n",
       "Цел.Лин.Прог    683 µs  2.76 ms  3.78 ms  5.48 ms  1.83 ms  971 µs  2.47 ms   \n",
       "\n",
       "                   test8  \n",
       "Дин. Стоимость  4min 20s  \n",
       "Дин. Вес          40.2 s  \n",
       "Генетический      6.59 s  \n",
       "Цел.Лин.Прог     5.12 ms  "
      ]
     },
     "execution_count": 322,
     "metadata": {},
     "output_type": "execute_result"
    }
   ],
   "source": [
    "tab"
   ]
  },
  {
   "cell_type": "code",
   "execution_count": 326,
   "metadata": {},
   "outputs": [],
   "source": [
    "for i in range(tab.shape[0]):\n",
    "    for j in range(tab.shape[1]):\n",
    "        tab.iloc[i,j] = \"True\""
   ]
  },
  {
   "cell_type": "code",
   "execution_count": null,
   "metadata": {},
   "outputs": [],
   "source": []
  },
  {
   "cell_type": "code",
   "execution_count": 327,
   "metadata": {},
   "outputs": [
    {
     "data": {
      "text/html": [
       "<div>\n",
       "<style scoped>\n",
       "    .dataframe tbody tr th:only-of-type {\n",
       "        vertical-align: middle;\n",
       "    }\n",
       "\n",
       "    .dataframe tbody tr th {\n",
       "        vertical-align: top;\n",
       "    }\n",
       "\n",
       "    .dataframe thead th {\n",
       "        text-align: right;\n",
       "    }\n",
       "</style>\n",
       "<table border=\"1\" class=\"dataframe\">\n",
       "  <thead>\n",
       "    <tr style=\"text-align: right;\">\n",
       "      <th></th>\n",
       "      <th>test1</th>\n",
       "      <th>test2</th>\n",
       "      <th>test3</th>\n",
       "      <th>test4</th>\n",
       "      <th>test5</th>\n",
       "      <th>test6</th>\n",
       "      <th>test7</th>\n",
       "      <th>test8</th>\n",
       "    </tr>\n",
       "  </thead>\n",
       "  <tbody>\n",
       "    <tr>\n",
       "      <th>Дин. Стоимость</th>\n",
       "      <td>True</td>\n",
       "      <td>True</td>\n",
       "      <td>True</td>\n",
       "      <td>True</td>\n",
       "      <td>True</td>\n",
       "      <td>True</td>\n",
       "      <td>True</td>\n",
       "      <td>True</td>\n",
       "    </tr>\n",
       "    <tr>\n",
       "      <th>Дин. Вес</th>\n",
       "      <td>True</td>\n",
       "      <td>True</td>\n",
       "      <td>True</td>\n",
       "      <td>True</td>\n",
       "      <td>True</td>\n",
       "      <td>True</td>\n",
       "      <td>True</td>\n",
       "      <td>True</td>\n",
       "    </tr>\n",
       "    <tr>\n",
       "      <th>Генетический</th>\n",
       "      <td>True</td>\n",
       "      <td>True</td>\n",
       "      <td>True</td>\n",
       "      <td>True</td>\n",
       "      <td>True</td>\n",
       "      <td>True</td>\n",
       "      <td>True</td>\n",
       "      <td>True</td>\n",
       "    </tr>\n",
       "    <tr>\n",
       "      <th>Цел.Лин.Прог</th>\n",
       "      <td>True</td>\n",
       "      <td>True</td>\n",
       "      <td>True</td>\n",
       "      <td>True</td>\n",
       "      <td>True</td>\n",
       "      <td>True</td>\n",
       "      <td>True</td>\n",
       "      <td>True</td>\n",
       "    </tr>\n",
       "  </tbody>\n",
       "</table>\n",
       "</div>"
      ],
      "text/plain": [
       "               test1 test2 test3 test4 test5 test6 test7 test8\n",
       "Дин. Стоимость  True  True  True  True  True  True  True  True\n",
       "Дин. Вес        True  True  True  True  True  True  True  True\n",
       "Генетический    True  True  True  True  True  True  True  True\n",
       "Цел.Лин.Прог    True  True  True  True  True  True  True  True"
      ]
     },
     "execution_count": 327,
     "metadata": {},
     "output_type": "execute_result"
    }
   ],
   "source": [
    "tab"
   ]
  },
  {
   "cell_type": "code",
   "execution_count": null,
   "metadata": {},
   "outputs": [],
   "source": []
  },
  {
   "cell_type": "code",
   "execution_count": null,
   "metadata": {},
   "outputs": [],
   "source": []
  }
 ],
 "metadata": {
  "kernelspec": {
   "display_name": "Python 3",
   "language": "python",
   "name": "python3"
  },
  "language_info": {
   "codemirror_mode": {
    "name": "ipython",
    "version": 3
   },
   "file_extension": ".py",
   "mimetype": "text/x-python",
   "name": "python",
   "nbconvert_exporter": "python",
   "pygments_lexer": "ipython3",
   "version": "3.7.6"
  }
 },
 "nbformat": 4,
 "nbformat_minor": 4
}
