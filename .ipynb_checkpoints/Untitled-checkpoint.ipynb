{
 "cells": [
  {
   "cell_type": "code",
   "execution_count": 119,
   "metadata": {},
   "outputs": [
    {
     "name": "stdout",
     "output_type": "stream",
     "text": [
      "4 6\n",
      "2 4 1 2\n",
      "7 2 5 1\n"
     ]
    }
   ],
   "source": [
    "\n",
    "N, M = [int(i) for i in input().split()]\n",
    "weights = [int(i) for i in input().split()]\n",
    "costs = [int(i) for i in input().split()]\n"
   ]
  },
  {
   "cell_type": "code",
   "execution_count": 95,
   "metadata": {},
   "outputs": [
    {
     "name": "stdout",
     "output_type": "stream",
     "text": [
      "2 10\n",
      "10 100\n",
      "9 80\n"
     ]
    }
   ],
   "source": [
    "\n",
    "N, M = [int(i) for i in input().split()]\n",
    "weights = []\n",
    "costs = []\n",
    "for i in range(N):\n",
    "    w, c = [int(i) for i in input().split()]\n",
    "    weights.append(w)\n",
    "    costs.append(c)"
   ]
  },
  {
   "cell_type": "code",
   "execution_count": 98,
   "metadata": {},
   "outputs": [
    {
     "name": "stdout",
     "output_type": "stream",
     "text": [
      "100\n"
     ]
    }
   ],
   "source": [
    "#Динамика по весам\n",
    "\n",
    "\n",
    "N, M = [int(i) for i in input().split()]\n",
    "weights = [int(i) for i in input().split()]\n",
    "costs = [int(i) for i in input().split()]\n",
    "\n",
    "c = [0 for i in range(M+1)]\n",
    "lists = [[] for i in range(M+1)] \n",
    "c[0] = 0\n",
    "\n",
    "for W in range(1, M+1):\n",
    "    c[W] = c[W-1]\n",
    "    lists[W] = lists[W-1]\n",
    "        \n",
    "    for i in range(N):\n",
    "        w = weights[i]\n",
    "        if W - w >= 0 and  i not in lists[W-w]:\n",
    "                if c[W] < costs[i] + c[W-w]:\n",
    "                    lists[W] = lists[W-w] + [i]\n",
    "                    c[W] = costs[i] + c[W-w]\n",
    "print(c[M])\n",
    "# print(len(lists[M]), c[M])\n",
    "# for i in lists[M]:\n",
    "#     print(i+1)\n"
   ]
  },
  {
   "cell_type": "code",
   "execution_count": 161,
   "metadata": {},
   "outputs": [
    {
     "name": "stdout",
     "output_type": "stream",
     "text": [
      "3 13\n",
      "4\n",
      "3\n",
      "1\n"
     ]
    }
   ],
   "source": [
    "#Динамика по ценности\n",
    "\n",
    "COST = sum(costs)\n",
    "y = [[0 for i in range(COST+1)] for j in range(N+1)]\n",
    "for i in range(1, COST+1):\n",
    "    y[0][i] = M + 1\n",
    "\n",
    "#---------------------------------------------------------------------\n",
    "for i in range(1,N+1):\n",
    "    for V in range(COST+1):\n",
    "        \n",
    "        if costs[i-1] > V:\n",
    "            y[i][V] = y[i-1][V]\n",
    "        else:\n",
    "            y[i][V] = min(y[i-1][V], y[i-1][V-costs[i-1]] + weights[i-1])\n",
    "#Построили матрицу y[i,V]\n",
    "#где i -  используем до i-го предмета\n",
    "#V - стоимость которуюю набирвем\n",
    "#---------------------------------------------------------------------\n",
    "\n",
    "\n",
    "\n",
    "#---------------------------------------------------------------------\n",
    "IND = COST\n",
    "while y[N][IND] == M+1:\n",
    "    IND-=1\n",
    "#IND - максимальная цена, которую можно набрать используя все предметы\n",
    "#---------------------------------------------------------------------\n",
    "\n",
    "\n",
    "\n",
    "IND1 = IND\n",
    "#---------------------------------------------------------------------\n",
    "lis =[]\n",
    "for i in range(N, -1,-1):\n",
    "    if y[i-1][IND] != y[i][IND]:\n",
    "        lis.append(i)\n",
    "        IND-=costs[i-1]\n",
    "\n",
    "#---------------------------------------------------------------------\n",
    "\n",
    "print(len(lis), IND1)\n",
    "for i in lis:\n",
    "    print(i)"
   ]
  }
 ],
 "metadata": {
  "kernelspec": {
   "display_name": "Python 3",
   "language": "python",
   "name": "python3"
  },
  "language_info": {
   "codemirror_mode": {
    "name": "ipython",
    "version": 3
   },
   "file_extension": ".py",
   "mimetype": "text/x-python",
   "name": "python",
   "nbconvert_exporter": "python",
   "pygments_lexer": "ipython3",
   "version": "3.7.7"
  }
 },
 "nbformat": 4,
 "nbformat_minor": 4
}
