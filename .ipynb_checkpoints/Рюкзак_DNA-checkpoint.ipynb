{
 "cells": [
  {
   "cell_type": "code",
   "execution_count": 8,
   "metadata": {},
   "outputs": [],
   "source": [
    "tests = [\n",
    "    {\n",
    "        \"W\": 165,\n",
    "        \"weights\": [23, 31, 29, 44, 53, 38, 63, 85, 89, 82],\n",
    "        \"costs\": [92, 57, 49, 68, 60, 43, 67, 84, 87, 72],\n",
    "        \"ans\": [1, 1, 1, 1, 0, 1, 0, 0, 0, 0]\n",
    "    },\n",
    "    \n",
    "    {\n",
    "        \"W\": 26,\n",
    "        \"weights\": [12,7,11,8,9],\n",
    "        \"costs\": [24,13,23,15,16],\n",
    "        \"ans\": [0, 1, 1, 1, 0]\n",
    "    },\n",
    "    \n",
    "    {\n",
    "        \"W\": 190,\n",
    "        \"weights\": [56,59,80,64,75,17],\n",
    "        \"costs\": [50,50,64,46,50,5],\n",
    "        \"ans\": [1,1,0,0,1,0]\n",
    "    },\n",
    "    \n",
    "    {\n",
    "        \"W\": 50,\n",
    "        \"weights\": [31,10,20,19, 4, 3, 6],\n",
    "        \"costs\": [70,20,39,37,7,5,10],\n",
    "        \"ans\": [1,0,0,1,0,0,0]\n",
    "    },\n",
    "    \n",
    "    {\n",
    "        \"W\": 104,\n",
    "        \"weights\": [25, 35,45, 5,25, 3, 2, 2],\n",
    "        \"costs\": [350,400,450, 20, 70,  8,  5,  5],\n",
    "        \"ans\": [1,0,1,1,1,0,1,1]\n",
    "    },\n",
    "    \n",
    "    {\n",
    "        \"W\": 170,\n",
    "        \"weights\": [41, 50, 49,59,55,57,60],\n",
    "        \"costs\": [442,525,511,593,546,564,617],\n",
    "        \"ans\": [0,1,0,1,0,0,1]\n",
    "    },\n",
    "    \n",
    "    {\n",
    "        \"W\": 750,\n",
    "        \"weights\": [70,73,77,80,82,87,90,94,98,106,110,113,115,118,120],\n",
    "        \"costs\": [135,139,149,150,156,163,173,184,192,201,210,214,221,229,240],\n",
    "        \"ans\": [1,0,1,0,1,0,1,1,1,0,0,0,0,1,1]\n",
    "    },\n",
    "    \n",
    "    {\n",
    "        \"W\": 6404180,\n",
    "        \"weights\": [382745,799601,909247,729069,467902,44328,34610,698150,823460,903959,853665,551830,\n",
    "                    610856,670702,488960,951111,323046,446298,931161,31385,496951,264724,224916,169684],\n",
    "        \"costs\": [ 825594,1677009,1676628,1523970,943972,97426,69666,1296457,1679693,1902996,1844992,\n",
    "                  1049289,1252836,1319836,953277,2067538,675367,853655,1826027,65731,901489,577243,466257,369261],\n",
    "        \"ans\": [1,1,0,1,1,1,0,0,0,1,1,0,1,0,0,1,0,0,0,0,0,1,1,1]\n",
    "    },\n",
    "    \n",
    "]"
   ]
  },
  {
   "cell_type": "code",
   "execution_count": 9,
   "metadata": {},
   "outputs": [
    {
     "data": {
      "text/plain": [
       "8"
      ]
     },
     "execution_count": 9,
     "metadata": {},
     "output_type": "execute_result"
    }
   ],
   "source": [
    "len(tests)"
   ]
  },
  {
   "cell_type": "markdown",
   "metadata": {},
   "source": [
    "# ДИНАМИКА ПО СТОИМОСТИ"
   ]
  },
  {
   "cell_type": "code",
   "execution_count": 101,
   "metadata": {},
   "outputs": [],
   "source": [
    "\n",
    "def knapsack_dinamic_cost(N, M, weights, costs):\n",
    "    '''Динамика по ценности'''\n",
    "    \n",
    "    COST = sum(costs)\n",
    "    \n",
    "    y = [[0 for i in range(COST+1)] for j in range(N+1)]\n",
    "    for i in range(1, COST+1):\n",
    "        y[0][i] = M + 1\n",
    "\n",
    "\n",
    "    for i in range(1,N+1):\n",
    "        for V in range(COST+1):\n",
    "\n",
    "            if costs[i-1] > V:\n",
    "                y[i][V] = y[i-1][V]\n",
    "            else:\n",
    "                y[i][V] = min(y[i-1][V], y[i-1][V-costs[i-1]] + weights[i-1])\n",
    "        \n",
    "    #Построили матрицу y[i,V]\n",
    "    #где i -  используем до i-го предмета\n",
    "    #V - стоимость которуюю набирвем\n",
    "\n",
    "\n",
    "    IND = COST\n",
    "    while y[N][IND] == M+1:\n",
    "        IND-=1\n",
    "    #IND - максимальная цена, которую можно набрать используя все предметы\n",
    "\n",
    "\n",
    "    res = IND\n",
    "\n",
    "\n",
    "\n",
    "    lis =[0 for i in range(N)]\n",
    "    for i in range(N, -1,-1):\n",
    "        if y[i-1][IND] != y[i][IND]:\n",
    "            lis[i-1]=1\n",
    "            IND-=costs[i-1]\n",
    "\n",
    "\n",
    "\n",
    "    return res, lis"
   ]
  },
  {
   "cell_type": "code",
   "execution_count": 102,
   "metadata": {},
   "outputs": [],
   "source": []
  },
  {
   "cell_type": "code",
   "execution_count": 103,
   "metadata": {},
   "outputs": [],
   "source": [
    "def check_correctness(func, test):\n",
    "    cost, res = func(len(test[\"weights\"]), test[\"W\"],\n",
    "                      test[\"weights\"], test[\"costs\"])\n",
    "    \n",
    "    real_cost = 0\n",
    "    \n",
    "    for i in range(len(test[\"weights\"])):\n",
    "        if test[\"ans\"][i] == 1:\n",
    "            real_cost += test[\"costs\"][i]\n",
    "            \n",
    "    if real_cost == cost and res == test[\"ans\"]:\n",
    "        return \"EXACT\"\n",
    "    if real_cost == cost:\n",
    "        return \"CORRECT\", res, test[\"ans\"]\n",
    "    return \"FALSE\", res, test[\"ans\"]"
   ]
  },
  {
   "cell_type": "code",
   "execution_count": 73,
   "metadata": {},
   "outputs": [
    {
     "name": "stdout",
     "output_type": "stream",
     "text": [
      "CPU times: user 2.28 ms, sys: 28 µs, total: 2.31 ms\n",
      "Wall time: 2.3 ms\n"
     ]
    },
    {
     "data": {
      "text/plain": [
       "'EXACT'"
      ]
     },
     "execution_count": 73,
     "metadata": {},
     "output_type": "execute_result"
    }
   ],
   "source": [
    "%%time\n",
    "check_correctness(knapsack_dinamic_cost, tests[0])"
   ]
  },
  {
   "cell_type": "code",
   "execution_count": 74,
   "metadata": {},
   "outputs": [
    {
     "name": "stdout",
     "output_type": "stream",
     "text": [
      "CPU times: user 682 µs, sys: 9 µs, total: 691 µs\n",
      "Wall time: 696 µs\n"
     ]
    },
    {
     "data": {
      "text/plain": [
       "'EXACT'"
      ]
     },
     "execution_count": 74,
     "metadata": {},
     "output_type": "execute_result"
    }
   ],
   "source": [
    "%%time\n",
    "check_correctness(knapsack_dinamic_cost, tests[1])"
   ]
  },
  {
   "cell_type": "code",
   "execution_count": 75,
   "metadata": {},
   "outputs": [
    {
     "name": "stdout",
     "output_type": "stream",
     "text": [
      "CPU times: user 4.01 ms, sys: 0 ns, total: 4.01 ms\n",
      "Wall time: 3.56 ms\n"
     ]
    },
    {
     "data": {
      "text/plain": [
       "'EXACT'"
      ]
     },
     "execution_count": 75,
     "metadata": {},
     "output_type": "execute_result"
    }
   ],
   "source": [
    "%%time\n",
    "check_correctness(knapsack_dinamic_cost, tests[2])"
   ]
  },
  {
   "cell_type": "code",
   "execution_count": 76,
   "metadata": {},
   "outputs": [
    {
     "name": "stdout",
     "output_type": "stream",
     "text": [
      "CPU times: user 2.23 ms, sys: 0 ns, total: 2.23 ms\n",
      "Wall time: 2.12 ms\n"
     ]
    },
    {
     "data": {
      "text/plain": [
       "'EXACT'"
      ]
     },
     "execution_count": 76,
     "metadata": {},
     "output_type": "execute_result"
    }
   ],
   "source": [
    "%%time\n",
    "check_correctness(knapsack_dinamic_cost, tests[3])"
   ]
  },
  {
   "cell_type": "code",
   "execution_count": 77,
   "metadata": {},
   "outputs": [
    {
     "name": "stdout",
     "output_type": "stream",
     "text": [
      "CPU times: user 15.8 ms, sys: 0 ns, total: 15.8 ms\n",
      "Wall time: 15.4 ms\n"
     ]
    },
    {
     "data": {
      "text/plain": [
       "'EXACT'"
      ]
     },
     "execution_count": 77,
     "metadata": {},
     "output_type": "execute_result"
    }
   ],
   "source": [
    "%%time\n",
    "check_correctness(knapsack_dinamic_cost, tests[4])"
   ]
  },
  {
   "cell_type": "code",
   "execution_count": 78,
   "metadata": {},
   "outputs": [
    {
     "name": "stdout",
     "output_type": "stream",
     "text": [
      "CPU times: user 23.8 ms, sys: 0 ns, total: 23.8 ms\n",
      "Wall time: 23 ms\n"
     ]
    },
    {
     "data": {
      "text/plain": [
       "'EXACT'"
      ]
     },
     "execution_count": 78,
     "metadata": {},
     "output_type": "execute_result"
    }
   ],
   "source": [
    "%%time\n",
    "check_correctness(knapsack_dinamic_cost, tests[5])"
   ]
  },
  {
   "cell_type": "code",
   "execution_count": 79,
   "metadata": {},
   "outputs": [
    {
     "name": "stdout",
     "output_type": "stream",
     "text": [
      "CPU times: user 41.2 ms, sys: 14 µs, total: 41.2 ms\n",
      "Wall time: 39.5 ms\n"
     ]
    },
    {
     "data": {
      "text/plain": [
       "'EXACT'"
      ]
     },
     "execution_count": 79,
     "metadata": {},
     "output_type": "execute_result"
    }
   ],
   "source": [
    "%%time\n",
    "check_correctness(knapsack_dinamic_cost, tests[6])"
   ]
  },
  {
   "cell_type": "code",
   "execution_count": 80,
   "metadata": {},
   "outputs": [
    {
     "name": "stdout",
     "output_type": "stream",
     "text": [
      "CPU times: user 4min 18s, sys: 2.02 s, total: 4min 20s\n",
      "Wall time: 4min 20s\n"
     ]
    },
    {
     "data": {
      "text/plain": [
       "'EXACT'"
      ]
     },
     "execution_count": 80,
     "metadata": {},
     "output_type": "execute_result"
    }
   ],
   "source": [
    "%%time\n",
    "check_correctness(knapsack_dinamic_cost, tests[7])"
   ]
  },
  {
   "cell_type": "code",
   "execution_count": null,
   "metadata": {},
   "outputs": [],
   "source": [
    "[\"2.3 ms\", \"696 µs\", \"3.56 ms\", \"2.12 ms\", \"15.4 ms\", \"23 ms\", \"39.5 ms\", \"4min 20s\"]"
   ]
  },
  {
   "cell_type": "code",
   "execution_count": null,
   "metadata": {},
   "outputs": [],
   "source": []
  },
  {
   "cell_type": "markdown",
   "metadata": {},
   "source": [
    "# ДИНАМИКА ПО ВЕСАМ"
   ]
  },
  {
   "cell_type": "code",
   "execution_count": 455,
   "metadata": {},
   "outputs": [],
   "source": [
    "\n",
    "def knapsack_dinamic_weight(N, M, weights, costs):\n",
    "    '''Динамика по весам'''\n",
    "\n",
    "\n",
    "    c = [0 for i in range(M+1)]\n",
    "    lists = [[] for i in range(M+1)] \n",
    "    c[0] = 0\n",
    "\n",
    "    for W in range(1, M+1):\n",
    "        c[W] = c[W-1]\n",
    "        lists[W] = lists[W-1]\n",
    "\n",
    "        for i in range(N):\n",
    "            w = weights[i]\n",
    "            if W - w >= 0 and  i not in lists[W-w]:\n",
    "                    if c[W] < costs[i] + c[W-w]:\n",
    "                        lists[W] = lists[W-w] + [i]\n",
    "                        c[W] = costs[i] + c[W-w]\n",
    "    res = [0 for i in range(N)]\n",
    "    for i in lists[M]:\n",
    "        res[i] = 1\n",
    "        \n",
    "    return c[M], res"
   ]
  },
  {
   "cell_type": "code",
   "execution_count": 92,
   "metadata": {},
   "outputs": [
    {
     "name": "stdout",
     "output_type": "stream",
     "text": [
      "CPU times: user 274 µs, sys: 3 µs, total: 277 µs\n",
      "Wall time: 279 µs\n"
     ]
    },
    {
     "data": {
      "text/plain": [
       "'EXACT'"
      ]
     },
     "execution_count": 92,
     "metadata": {},
     "output_type": "execute_result"
    }
   ],
   "source": [
    "%%time\n",
    "check_correctness(knapsack_dinamic_weight, tests[0])"
   ]
  },
  {
   "cell_type": "code",
   "execution_count": 93,
   "metadata": {},
   "outputs": [
    {
     "name": "stdout",
     "output_type": "stream",
     "text": [
      "CPU times: user 167 µs, sys: 0 ns, total: 167 µs\n",
      "Wall time: 176 µs\n"
     ]
    },
    {
     "data": {
      "text/plain": [
       "'EXACT'"
      ]
     },
     "execution_count": 93,
     "metadata": {},
     "output_type": "execute_result"
    }
   ],
   "source": [
    "%%time\n",
    "check_correctness(knapsack_dinamic_weight, tests[1])"
   ]
  },
  {
   "cell_type": "code",
   "execution_count": 94,
   "metadata": {},
   "outputs": [
    {
     "name": "stdout",
     "output_type": "stream",
     "text": [
      "CPU times: user 0 ns, sys: 931 µs, total: 931 µs\n",
      "Wall time: 940 µs\n"
     ]
    },
    {
     "data": {
      "text/plain": [
       "'EXACT'"
      ]
     },
     "execution_count": 94,
     "metadata": {},
     "output_type": "execute_result"
    }
   ],
   "source": [
    "%%time\n",
    "check_correctness(knapsack_dinamic_weight, tests[2])"
   ]
  },
  {
   "cell_type": "code",
   "execution_count": 95,
   "metadata": {},
   "outputs": [
    {
     "name": "stdout",
     "output_type": "stream",
     "text": [
      "CPU times: user 84 µs, sys: 1e+03 ns, total: 85 µs\n",
      "Wall time: 86.8 µs\n"
     ]
    },
    {
     "data": {
      "text/plain": [
       "'EXACT'"
      ]
     },
     "execution_count": 95,
     "metadata": {},
     "output_type": "execute_result"
    }
   ],
   "source": [
    "%%time\n",
    "check_correctness(knapsack_dinamic_weight, tests[3])"
   ]
  },
  {
   "cell_type": "code",
   "execution_count": 96,
   "metadata": {},
   "outputs": [
    {
     "name": "stdout",
     "output_type": "stream",
     "text": [
      "CPU times: user 190 µs, sys: 2 µs, total: 192 µs\n",
      "Wall time: 195 µs\n"
     ]
    },
    {
     "data": {
      "text/plain": [
       "'EXACT'"
      ]
     },
     "execution_count": 96,
     "metadata": {},
     "output_type": "execute_result"
    }
   ],
   "source": [
    "%%time\n",
    "check_correctness(knapsack_dinamic_weight, tests[4])"
   ]
  },
  {
   "cell_type": "code",
   "execution_count": 97,
   "metadata": {},
   "outputs": [
    {
     "name": "stdout",
     "output_type": "stream",
     "text": [
      "CPU times: user 240 µs, sys: 2 µs, total: 242 µs\n",
      "Wall time: 245 µs\n"
     ]
    },
    {
     "data": {
      "text/plain": [
       "'EXACT'"
      ]
     },
     "execution_count": 97,
     "metadata": {},
     "output_type": "execute_result"
    }
   ],
   "source": [
    "%%time\n",
    "check_correctness(knapsack_dinamic_weight, tests[5])"
   ]
  },
  {
   "cell_type": "code",
   "execution_count": 98,
   "metadata": {},
   "outputs": [
    {
     "name": "stdout",
     "output_type": "stream",
     "text": [
      "CPU times: user 2.53 ms, sys: 28 µs, total: 2.56 ms\n",
      "Wall time: 2.56 ms\n"
     ]
    },
    {
     "data": {
      "text/plain": [
       "'EXACT'"
      ]
     },
     "execution_count": 98,
     "metadata": {},
     "output_type": "execute_result"
    }
   ],
   "source": [
    "%%time\n",
    "check_correctness(knapsack_dinamic_weight, tests[6])"
   ]
  },
  {
   "cell_type": "code",
   "execution_count": 99,
   "metadata": {},
   "outputs": [
    {
     "name": "stdout",
     "output_type": "stream",
     "text": [
      "CPU times: user 40.1 s, sys: 172 ms, total: 40.3 s\n",
      "Wall time: 40.2 s\n"
     ]
    },
    {
     "data": {
      "text/plain": [
       "'EXACT'"
      ]
     },
     "execution_count": 99,
     "metadata": {},
     "output_type": "execute_result"
    }
   ],
   "source": [
    "%%time\n",
    "check_correctness(knapsack_dinamic_weight, tests[7])"
   ]
  },
  {
   "cell_type": "code",
   "execution_count": null,
   "metadata": {},
   "outputs": [],
   "source": [
    "[\"279 µs\", \"176 µs\", \"940 µs\", \"86.8 µs\", \"195 µs\", \"245 µs\", \"2.56 ms\", \"40.2 s\"]"
   ]
  },
  {
   "cell_type": "markdown",
   "metadata": {},
   "source": [
    "# ГЕНЕТИЧЕСКИЙ АЛГОРИТМ"
   ]
  },
  {
   "cell_type": "code",
   "execution_count": 431,
   "metadata": {},
   "outputs": [],
   "source": [
    "import random as rnd\n",
    "import numpy as np\n",
    "rnd.seed(42)\n",
    "\n",
    "class Knapsack_DNA():\n",
    "    def __init__(self, P=100, epoch=500, prob_mutation=0.01, num_best=20):\n",
    "        \n",
    "        if num_best > P:\n",
    "            raise ValueError(\"num_best > P\")\n",
    "            \n",
    "        self.P = P\n",
    "        self.epoch = epoch\n",
    "        self.prob_mutation = prob_mutation\n",
    "        self.num_best = num_best\n",
    "        \n",
    "    \n",
    "    \n",
    "    def __mutate(self, DNA):\n",
    "        for i in range(len(DNA)):\n",
    "            if rnd.random() < self.prob_mutation:\n",
    "                DNA[i] ^= 1\n",
    "        return DNA\n",
    "    \n",
    "    \n",
    "    \n",
    "    def __crossover(self, DNA1, DNA2):\n",
    "        DNA1[::2] = DNA2[::2]\n",
    "        return DNA1\n",
    "    \n",
    "    \n",
    "    \n",
    "    def __loss_func(self, DNA):\n",
    "        \n",
    "        mask = np.where(DNA==1)\n",
    "        weight = self.weights[mask].sum()\n",
    "        \n",
    "        cost = -1\n",
    "        if weight <= self.Weight:\n",
    "            cost = self.costs[mask].sum()\n",
    "        \n",
    "        return cost\n",
    "    \n",
    "    \n",
    "    def __begin_epoch(self):\n",
    "        errors = np.array(list(map(lambda x: self.__loss_func(x), self.Population)))\n",
    "        indexes_of_bests = np.argpartition(-errors, self.num_best)\n",
    "        Best = self.Population[indexes_of_bests[:self.num_best],:]\n",
    "        \n",
    "        \n",
    "        self.Population[:self.num_best,:] = Best[:,:]\n",
    "        \n",
    "        for i in range(self.num_best,\n",
    "                       self.Population.shape[0]):\n",
    "            \n",
    "            fir = rnd.randint(0, self.num_best-1)\n",
    "            sec = rnd.randint(0, self.num_best-1)\n",
    "            self.__crossover(Best[fir,:], Best[sec,:])\n",
    "            self.__mutate(self.Population[i])\n",
    " \n",
    "            \n",
    "        \n",
    "        \n",
    "    \n",
    "    \n",
    "    def fit(self, test):\n",
    "        self.N = len(test[\"weights\"])\n",
    "        self.Weight = test[\"W\"]\n",
    "        self.weights = np.array(test[\"weights\"])\n",
    "        self.costs = np.array(test[\"costs\"])\n",
    "        self.ans = np.array(test[\"ans\"])\n",
    "        \n",
    "        self.Population = np.array([[i%2 for i in range(self.N)] for j in range(self.P)])\n",
    "        for i in range(self.epoch):\n",
    "            self.__begin_epoch()\n",
    "            \n",
    "    def predict(self):\n",
    "        errors = np.array(list(map(lambda x: self.__loss_func(x), self.Population)))\n",
    "        pos = errors.argmax()\n",
    "        \n",
    "        return self.__loss_func(self.Population[pos,:]), self.Population[pos,:]\n",
    "    \n",
    "    def score(self):\n",
    "        cost, res = self.predict()\n",
    "        \n",
    "    \n",
    "        real_cost = self.costs[np.where(self.ans == 1)].sum()\n",
    "        \n",
    "        if real_cost == cost and (res == self.ans).all():\n",
    "            return \"EXACT\"\n",
    "        if real_cost == cost:\n",
    "            return \"CORRECT\", res, self.ans\n",
    "        print(\"Truth = \" + str(real_cost))\n",
    "        print(\"Obtain = \" + str(cost))\n",
    "        print(\"Difference = \" + str(real_cost - cost))\n",
    "        return \"FALSE\"\n",
    "        \n",
    "    "
   ]
  },
  {
   "cell_type": "code",
   "execution_count": 432,
   "metadata": {},
   "outputs": [],
   "source": [
    "mdl = Knapsack_DNA() "
   ]
  },
  {
   "cell_type": "code",
   "execution_count": 433,
   "metadata": {},
   "outputs": [
    {
     "name": "stdout",
     "output_type": "stream",
     "text": [
      "CPU times: user 448 ms, sys: 4.04 ms, total: 452 ms\n",
      "Wall time: 448 ms\n"
     ]
    },
    {
     "data": {
      "text/plain": [
       "'EXACT'"
      ]
     },
     "execution_count": 433,
     "metadata": {},
     "output_type": "execute_result"
    }
   ],
   "source": [
    "%%time\n",
    "mdl.fit(tests[0])\n",
    "mdl.score()"
   ]
  },
  {
   "cell_type": "code",
   "execution_count": 434,
   "metadata": {},
   "outputs": [
    {
     "name": "stdout",
     "output_type": "stream",
     "text": [
      "CPU times: user 486 ms, sys: 8.09 ms, total: 494 ms\n",
      "Wall time: 489 ms\n"
     ]
    },
    {
     "data": {
      "text/plain": [
       "'EXACT'"
      ]
     },
     "execution_count": 434,
     "metadata": {},
     "output_type": "execute_result"
    }
   ],
   "source": [
    "%%time\n",
    "mdl.fit(tests[1])\n",
    "mdl.score()"
   ]
  },
  {
   "cell_type": "code",
   "execution_count": 435,
   "metadata": {},
   "outputs": [
    {
     "name": "stdout",
     "output_type": "stream",
     "text": [
      "CPU times: user 469 ms, sys: 8.13 ms, total: 477 ms\n",
      "Wall time: 469 ms\n"
     ]
    },
    {
     "data": {
      "text/plain": [
       "'EXACT'"
      ]
     },
     "execution_count": 435,
     "metadata": {},
     "output_type": "execute_result"
    }
   ],
   "source": [
    "%%time\n",
    "mdl.fit(tests[2])\n",
    "mdl.score()"
   ]
  },
  {
   "cell_type": "code",
   "execution_count": 436,
   "metadata": {},
   "outputs": [
    {
     "name": "stdout",
     "output_type": "stream",
     "text": [
      "CPU times: user 479 ms, sys: 4.15 ms, total: 484 ms\n",
      "Wall time: 475 ms\n"
     ]
    },
    {
     "data": {
      "text/plain": [
       "'EXACT'"
      ]
     },
     "execution_count": 436,
     "metadata": {},
     "output_type": "execute_result"
    }
   ],
   "source": [
    "%%time\n",
    "mdl.fit(tests[3])\n",
    "mdl.score()"
   ]
  },
  {
   "cell_type": "code",
   "execution_count": 437,
   "metadata": {},
   "outputs": [
    {
     "name": "stdout",
     "output_type": "stream",
     "text": [
      "CPU times: user 506 ms, sys: 4.18 ms, total: 510 ms\n",
      "Wall time: 498 ms\n"
     ]
    },
    {
     "data": {
      "text/plain": [
       "'EXACT'"
      ]
     },
     "execution_count": 437,
     "metadata": {},
     "output_type": "execute_result"
    }
   ],
   "source": [
    "%%time\n",
    "mdl.fit(tests[4])\n",
    "mdl.score()"
   ]
  },
  {
   "cell_type": "code",
   "execution_count": 438,
   "metadata": {},
   "outputs": [
    {
     "name": "stdout",
     "output_type": "stream",
     "text": [
      "CPU times: user 461 ms, sys: 4.11 ms, total: 465 ms\n",
      "Wall time: 453 ms\n"
     ]
    },
    {
     "data": {
      "text/plain": [
       "'EXACT'"
      ]
     },
     "execution_count": 438,
     "metadata": {},
     "output_type": "execute_result"
    }
   ],
   "source": [
    "%%time\n",
    "mdl.fit(tests[5])\n",
    "mdl.score()"
   ]
  },
  {
   "cell_type": "code",
   "execution_count": 439,
   "metadata": {},
   "outputs": [
    {
     "name": "stdout",
     "output_type": "stream",
     "text": [
      "Truth = 1458\n",
      "Obtain = 1456\n",
      "Difference = 2\n",
      "CPU times: user 522 ms, sys: 0 ns, total: 522 ms\n",
      "Wall time: 513 ms\n"
     ]
    },
    {
     "data": {
      "text/plain": [
       "'FALSE'"
      ]
     },
     "execution_count": 439,
     "metadata": {},
     "output_type": "execute_result"
    }
   ],
   "source": [
    "%%time\n",
    "mdl.fit(tests[6])\n",
    "mdl.score()"
   ]
  },
  {
   "cell_type": "code",
   "execution_count": 440,
   "metadata": {},
   "outputs": [
    {
     "name": "stdout",
     "output_type": "stream",
     "text": [
      "Truth = 13549094\n",
      "Obtain = 13335107\n",
      "Difference = 213987\n",
      "CPU times: user 534 ms, sys: 0 ns, total: 534 ms\n",
      "Wall time: 530 ms\n"
     ]
    },
    {
     "data": {
      "text/plain": [
       "'FALSE'"
      ]
     },
     "execution_count": 440,
     "metadata": {},
     "output_type": "execute_result"
    }
   ],
   "source": [
    "%%time\n",
    "mdl.fit(tests[7])\n",
    "mdl.score()"
   ]
  },
  {
   "cell_type": "code",
   "execution_count": null,
   "metadata": {},
   "outputs": [],
   "source": [
    "[\"448 ms\", \"489 ms\", \"469 ms\", \"475 ms\", \"498 ms\", \"453 ms\", \"513 ms\", \"530 ms\"]"
   ]
  },
  {
   "cell_type": "markdown",
   "metadata": {},
   "source": [
    "# ЛИНЕЙНОЕ ПРОГРАММИРОВАНИЕ"
   ]
  },
  {
   "cell_type": "markdown",
   "metadata": {},
   "source": [
    "$x_i \\le 1$\n",
    "\n",
    "$x_i \\ge 0 \\Leftrightarrow  -x_i \\le 0 $\n",
    "\n",
    "$\\sum_{i=0}^{N}$ weights$_i \\cdot x_i \\le W$\n",
    "\n",
    "$\\sum_{i=0}^{N}$ costst$_i \\cdot x_i \\rightarrow max$"
   ]
  },
  {
   "cell_type": "code",
   "execution_count": 453,
   "metadata": {
    "scrolled": true
   },
   "outputs": [
    {
     "name": "stdout",
     "output_type": "stream",
     "text": [
      "     pcost       dcost       gap    pres   dres   k/t\n",
      " 0:  2.6471e+00 -7.0588e-01  2e+01  8e-01  2e+00  1e+00\n",
      " 1:  3.0726e+00  2.8437e+00  1e+00  1e-01  2e-01  3e-01\n",
      " 2:  2.4891e+00  2.4808e+00  1e-01  1e-02  2e-02  5e-02\n",
      " 3:  2.4999e+00  2.4998e+00  1e-03  1e-04  2e-04  5e-04\n",
      " 4:  2.5000e+00  2.5000e+00  1e-05  1e-06  2e-06  5e-06\n",
      " 5:  2.5000e+00  2.5000e+00  1e-07  1e-08  2e-08  5e-08\n",
      "Optimal solution found.\n"
     ]
    }
   ],
   "source": [
    "from cvxopt import matrix, solvers\n",
    "\n",
    "c = matrix()\n",
    "sol=solvers.lp(c,A,b)"
   ]
  },
  {
   "cell_type": "code",
   "execution_count": null,
   "metadata": {},
   "outputs": [],
   "source": [
    "def linear_programming"
   ]
  },
  {
   "cell_type": "code",
   "execution_count": 454,
   "metadata": {},
   "outputs": [
    {
     "data": {
      "text/plain": [
       "{'x': <2x1 matrix, tc='d'>,\n",
       " 'y': <0x1 matrix, tc='d'>,\n",
       " 's': <4x1 matrix, tc='d'>,\n",
       " 'z': <4x1 matrix, tc='d'>,\n",
       " 'status': 'optimal',\n",
       " 'gap': 1.3974945738367112e-07,\n",
       " 'relative gap': 5.5899783361956036e-08,\n",
       " 'primal objective': 2.4999999895543077,\n",
       " 'dual objective': 2.4999999817312535,\n",
       " 'primal infeasibility': 1.1368786343826501e-08,\n",
       " 'dual infeasibility': 2.2578789821455933e-08,\n",
       " 'primal slack': 2.0388399548403754e-08,\n",
       " 'dual slack': 3.5299159727701888e-09,\n",
       " 'residual as primal infeasibility certificate': None,\n",
       " 'residual as dual infeasibility certificate': None,\n",
       " 'iterations': 5}"
      ]
     },
     "execution_count": 454,
     "metadata": {},
     "output_type": "execute_result"
    }
   ],
   "source": [
    "sol"
   ]
  },
  {
   "cell_type": "code",
   "execution_count": null,
   "metadata": {},
   "outputs": [],
   "source": []
  },
  {
   "cell_type": "code",
   "execution_count": null,
   "metadata": {},
   "outputs": [],
   "source": []
  },
  {
   "cell_type": "code",
   "execution_count": null,
   "metadata": {},
   "outputs": [],
   "source": []
  },
  {
   "cell_type": "code",
   "execution_count": null,
   "metadata": {},
   "outputs": [],
   "source": []
  },
  {
   "cell_type": "code",
   "execution_count": null,
   "metadata": {},
   "outputs": [],
   "source": []
  },
  {
   "cell_type": "code",
   "execution_count": null,
   "metadata": {},
   "outputs": [],
   "source": []
  },
  {
   "cell_type": "code",
   "execution_count": null,
   "metadata": {},
   "outputs": [],
   "source": []
  },
  {
   "cell_type": "code",
   "execution_count": null,
   "metadata": {},
   "outputs": [],
   "source": []
  },
  {
   "cell_type": "code",
   "execution_count": null,
   "metadata": {},
   "outputs": [],
   "source": []
  },
  {
   "cell_type": "code",
   "execution_count": null,
   "metadata": {},
   "outputs": [],
   "source": []
  },
  {
   "cell_type": "code",
   "execution_count": null,
   "metadata": {},
   "outputs": [],
   "source": []
  },
  {
   "cell_type": "code",
   "execution_count": null,
   "metadata": {},
   "outputs": [],
   "source": []
  },
  {
   "cell_type": "code",
   "execution_count": null,
   "metadata": {},
   "outputs": [],
   "source": []
  },
  {
   "cell_type": "code",
   "execution_count": null,
   "metadata": {},
   "outputs": [],
   "source": []
  },
  {
   "cell_type": "code",
   "execution_count": null,
   "metadata": {},
   "outputs": [],
   "source": []
  },
  {
   "cell_type": "code",
   "execution_count": null,
   "metadata": {},
   "outputs": [],
   "source": []
  },
  {
   "cell_type": "code",
   "execution_count": null,
   "metadata": {},
   "outputs": [],
   "source": []
  },
  {
   "cell_type": "code",
   "execution_count": null,
   "metadata": {},
   "outputs": [],
   "source": []
  },
  {
   "cell_type": "code",
   "execution_count": null,
   "metadata": {},
   "outputs": [],
   "source": []
  },
  {
   "cell_type": "code",
   "execution_count": null,
   "metadata": {},
   "outputs": [],
   "source": []
  },
  {
   "cell_type": "code",
   "execution_count": null,
   "metadata": {},
   "outputs": [],
   "source": []
  },
  {
   "cell_type": "code",
   "execution_count": null,
   "metadata": {},
   "outputs": [],
   "source": []
  },
  {
   "cell_type": "code",
   "execution_count": null,
   "metadata": {},
   "outputs": [],
   "source": []
  },
  {
   "cell_type": "code",
   "execution_count": null,
   "metadata": {},
   "outputs": [],
   "source": []
  },
  {
   "cell_type": "code",
   "execution_count": null,
   "metadata": {},
   "outputs": [],
   "source": []
  },
  {
   "cell_type": "code",
   "execution_count": null,
   "metadata": {},
   "outputs": [],
   "source": []
  },
  {
   "cell_type": "code",
   "execution_count": null,
   "metadata": {},
   "outputs": [],
   "source": []
  },
  {
   "cell_type": "code",
   "execution_count": null,
   "metadata": {},
   "outputs": [],
   "source": []
  },
  {
   "cell_type": "code",
   "execution_count": null,
   "metadata": {},
   "outputs": [],
   "source": []
  },
  {
   "cell_type": "code",
   "execution_count": null,
   "metadata": {},
   "outputs": [],
   "source": []
  },
  {
   "cell_type": "code",
   "execution_count": null,
   "metadata": {},
   "outputs": [],
   "source": []
  },
  {
   "cell_type": "code",
   "execution_count": null,
   "metadata": {},
   "outputs": [],
   "source": []
  },
  {
   "cell_type": "code",
   "execution_count": null,
   "metadata": {},
   "outputs": [],
   "source": []
  },
  {
   "cell_type": "code",
   "execution_count": null,
   "metadata": {},
   "outputs": [],
   "source": []
  },
  {
   "cell_type": "code",
   "execution_count": 426,
   "metadata": {},
   "outputs": [],
   "source": [
    "import pandas as pd"
   ]
  },
  {
   "cell_type": "code",
   "execution_count": 445,
   "metadata": {},
   "outputs": [],
   "source": [
    "tab = pd.DataFrame([[\"2.3 ms\", \"696 µs\", \"3.56 ms\", \"2.12 ms\", \"15.4 ms\", \"23 ms\", \"39.5 ms\", \"4min 20s\"],\n",
    "                    [\"279 µs\", \"176 µs\", \"940 µs\", \"86.8 µs\", \"195 µs\", \"245 µs\", \"2.56 ms\", \"40.2 s\"],\n",
    "                    [\"448 ms\", \"489 ms\", \"469 ms\", \"475 ms\", \"498 ms\", \"453 ms\", \"513 ms\", \"530 ms\"]],\n",
    "                   columns=[\"test1\",\"test2\",\"test3\",\"test4\",\"test5\",\"test6\",\"test7\",\"test8\"]\n",
    "                   , index=[\"Дин. Стоимость\", \"Дин. Вес\", \"Генетический\"])"
   ]
  },
  {
   "cell_type": "code",
   "execution_count": 446,
   "metadata": {},
   "outputs": [
    {
     "data": {
      "text/html": [
       "<div>\n",
       "<style scoped>\n",
       "    .dataframe tbody tr th:only-of-type {\n",
       "        vertical-align: middle;\n",
       "    }\n",
       "\n",
       "    .dataframe tbody tr th {\n",
       "        vertical-align: top;\n",
       "    }\n",
       "\n",
       "    .dataframe thead th {\n",
       "        text-align: right;\n",
       "    }\n",
       "</style>\n",
       "<table border=\"1\" class=\"dataframe\">\n",
       "  <thead>\n",
       "    <tr style=\"text-align: right;\">\n",
       "      <th></th>\n",
       "      <th>test1</th>\n",
       "      <th>test2</th>\n",
       "      <th>test3</th>\n",
       "      <th>test4</th>\n",
       "      <th>test5</th>\n",
       "      <th>test6</th>\n",
       "      <th>test7</th>\n",
       "      <th>test8</th>\n",
       "    </tr>\n",
       "  </thead>\n",
       "  <tbody>\n",
       "    <tr>\n",
       "      <th>Дин. Стоимость</th>\n",
       "      <td>2.3 ms</td>\n",
       "      <td>696 µs</td>\n",
       "      <td>3.56 ms</td>\n",
       "      <td>2.12 ms</td>\n",
       "      <td>15.4 ms</td>\n",
       "      <td>23 ms</td>\n",
       "      <td>39.5 ms</td>\n",
       "      <td>4min 20s</td>\n",
       "    </tr>\n",
       "    <tr>\n",
       "      <th>Дин. Вес</th>\n",
       "      <td>279 µs</td>\n",
       "      <td>176 µs</td>\n",
       "      <td>940 µs</td>\n",
       "      <td>86.8 µs</td>\n",
       "      <td>195 µs</td>\n",
       "      <td>245 µs</td>\n",
       "      <td>2.56 ms</td>\n",
       "      <td>40.2 s</td>\n",
       "    </tr>\n",
       "    <tr>\n",
       "      <th>Генетический</th>\n",
       "      <td>448 ms</td>\n",
       "      <td>489 ms</td>\n",
       "      <td>469 ms</td>\n",
       "      <td>475 ms</td>\n",
       "      <td>498 ms</td>\n",
       "      <td>453 ms</td>\n",
       "      <td>513 ms</td>\n",
       "      <td>530 ms</td>\n",
       "    </tr>\n",
       "  </tbody>\n",
       "</table>\n",
       "</div>"
      ],
      "text/plain": [
       "                 test1   test2    test3    test4    test5   test6    test7  \\\n",
       "Дин. Стоимость  2.3 ms  696 µs  3.56 ms  2.12 ms  15.4 ms   23 ms  39.5 ms   \n",
       "Дин. Вес        279 µs  176 µs   940 µs  86.8 µs   195 µs  245 µs  2.56 ms   \n",
       "Генетический    448 ms  489 ms   469 ms   475 ms   498 ms  453 ms   513 ms   \n",
       "\n",
       "                   test8  \n",
       "Дин. Стоимость  4min 20s  \n",
       "Дин. Вес          40.2 s  \n",
       "Генетический      530 ms  "
      ]
     },
     "execution_count": 446,
     "metadata": {},
     "output_type": "execute_result"
    }
   ],
   "source": [
    "tab"
   ]
  },
  {
   "cell_type": "code",
   "execution_count": 447,
   "metadata": {},
   "outputs": [],
   "source": [
    "for i in range(tab.shape[0]):\n",
    "    for j in range(tab.shape[1]):\n",
    "        tab.iloc[i,j] = \"True\""
   ]
  },
  {
   "cell_type": "code",
   "execution_count": 448,
   "metadata": {},
   "outputs": [],
   "source": [
    "tab.iloc[2,6] = \"False\"\n",
    "tab.iloc[2,7] = \"False\""
   ]
  },
  {
   "cell_type": "code",
   "execution_count": 449,
   "metadata": {},
   "outputs": [
    {
     "data": {
      "text/html": [
       "<div>\n",
       "<style scoped>\n",
       "    .dataframe tbody tr th:only-of-type {\n",
       "        vertical-align: middle;\n",
       "    }\n",
       "\n",
       "    .dataframe tbody tr th {\n",
       "        vertical-align: top;\n",
       "    }\n",
       "\n",
       "    .dataframe thead th {\n",
       "        text-align: right;\n",
       "    }\n",
       "</style>\n",
       "<table border=\"1\" class=\"dataframe\">\n",
       "  <thead>\n",
       "    <tr style=\"text-align: right;\">\n",
       "      <th></th>\n",
       "      <th>test1</th>\n",
       "      <th>test2</th>\n",
       "      <th>test3</th>\n",
       "      <th>test4</th>\n",
       "      <th>test5</th>\n",
       "      <th>test6</th>\n",
       "      <th>test7</th>\n",
       "      <th>test8</th>\n",
       "    </tr>\n",
       "  </thead>\n",
       "  <tbody>\n",
       "    <tr>\n",
       "      <th>Дин. Стоимость</th>\n",
       "      <td>True</td>\n",
       "      <td>True</td>\n",
       "      <td>True</td>\n",
       "      <td>True</td>\n",
       "      <td>True</td>\n",
       "      <td>True</td>\n",
       "      <td>True</td>\n",
       "      <td>True</td>\n",
       "    </tr>\n",
       "    <tr>\n",
       "      <th>Дин. Вес</th>\n",
       "      <td>True</td>\n",
       "      <td>True</td>\n",
       "      <td>True</td>\n",
       "      <td>True</td>\n",
       "      <td>True</td>\n",
       "      <td>True</td>\n",
       "      <td>True</td>\n",
       "      <td>True</td>\n",
       "    </tr>\n",
       "    <tr>\n",
       "      <th>Генетический</th>\n",
       "      <td>True</td>\n",
       "      <td>True</td>\n",
       "      <td>True</td>\n",
       "      <td>True</td>\n",
       "      <td>True</td>\n",
       "      <td>True</td>\n",
       "      <td>False</td>\n",
       "      <td>False</td>\n",
       "    </tr>\n",
       "  </tbody>\n",
       "</table>\n",
       "</div>"
      ],
      "text/plain": [
       "               test1 test2 test3 test4 test5 test6  test7  test8\n",
       "Дин. Стоимость  True  True  True  True  True  True   True   True\n",
       "Дин. Вес        True  True  True  True  True  True   True   True\n",
       "Генетический    True  True  True  True  True  True  False  False"
      ]
     },
     "execution_count": 449,
     "metadata": {},
     "output_type": "execute_result"
    }
   ],
   "source": [
    "tab"
   ]
  },
  {
   "cell_type": "markdown",
   "metadata": {},
   "source": [
    "## В 7 тесте\n",
    "Truth = 1458\n",
    "Obtain = 1456\n",
    "Difference = 2"
   ]
  },
  {
   "cell_type": "markdown",
   "metadata": {},
   "source": [
    "## В 8 тесте\n",
    "Truth = 13549094\n",
    "Obtain = 13335107\n",
    "Difference = 213987"
   ]
  },
  {
   "cell_type": "code",
   "execution_count": null,
   "metadata": {},
   "outputs": [],
   "source": []
  },
  {
   "cell_type": "code",
   "execution_count": null,
   "metadata": {},
   "outputs": [],
   "source": []
  }
 ],
 "metadata": {
  "kernelspec": {
   "display_name": "Python 3",
   "language": "python",
   "name": "python3"
  },
  "language_info": {
   "codemirror_mode": {
    "name": "ipython",
    "version": 3
   },
   "file_extension": ".py",
   "mimetype": "text/x-python",
   "name": "python",
   "nbconvert_exporter": "python",
   "pygments_lexer": "ipython3",
   "version": "3.7.6"
  }
 },
 "nbformat": 4,
 "nbformat_minor": 4
}
